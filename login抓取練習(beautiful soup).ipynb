{
 "cells": [
  {
   "cell_type": "code",
   "execution_count": 1,
   "metadata": {},
   "outputs": [],
   "source": [
    "import requests\n",
    "from bs4 import BeautifulSoup\n",
    "import pandas as pd\n",
    "import numpy as np"
   ]
  },
  {
   "cell_type": "code",
   "execution_count": 2,
   "metadata": {},
   "outputs": [
    {
     "data": {
      "text/html": [
       "<div>\n",
       "<style scoped>\n",
       "    .dataframe tbody tr th:only-of-type {\n",
       "        vertical-align: middle;\n",
       "    }\n",
       "\n",
       "    .dataframe tbody tr th {\n",
       "        vertical-align: top;\n",
       "    }\n",
       "\n",
       "    .dataframe thead th {\n",
       "        text-align: right;\n",
       "    }\n",
       "</style>\n",
       "<table border=\"1\" class=\"dataframe\">\n",
       "  <thead>\n",
       "    <tr style=\"text-align: right;\">\n",
       "      <th></th>\n",
       "      <th>個人情報</th>\n",
       "    </tr>\n",
       "  </thead>\n",
       "  <tbody>\n",
       "    <tr>\n",
       "      <th>講師名</th>\n",
       "      <td>今西 航平</td>\n",
       "    </tr>\n",
       "    <tr>\n",
       "      <th>所属企業</th>\n",
       "      <td>株式会社キカガク</td>\n",
       "    </tr>\n",
       "    <tr>\n",
       "      <th>生年月日</th>\n",
       "      <td>1994年7月15日</td>\n",
       "    </tr>\n",
       "    <tr>\n",
       "      <th>出身</th>\n",
       "      <td>千葉県</td>\n",
       "    </tr>\n",
       "    <tr>\n",
       "      <th>趣味</th>\n",
       "      <td>バスケットボール,読書,ガジェット集め</td>\n",
       "    </tr>\n",
       "  </tbody>\n",
       "</table>\n",
       "</div>"
      ],
      "text/plain": [
       "                     個人情報\n",
       "講師名                 今西 航平\n",
       "所属企業             株式会社キカガク\n",
       "生年月日           1994年7月15日\n",
       "出身                    千葉県\n",
       "趣味    バスケットボール,読書,ガジェット集め"
      ]
     },
     "execution_count": 2,
     "metadata": {},
     "output_type": "execute_result"
    }
   ],
   "source": [
    "#1. --------------------------------login data---------------------------------------\n",
    "login_url = 'https://scraping-for-beginner.herokuapp.com/login'\n",
    "headers = {\n",
    "'Referer': 'https://scraping-for-beginner.herokuapp.com/login_page',\n",
    "'User-Agent': 'Mozilla/5.0 (Windows NT 10.0; Win64; x64) AppleWebKit/537.36 (KHTML, like Gecko) Chrome/78.0.3904.108 Safari/537.36'}\n",
    "data = {'username': 'imanishi',\n",
    "        'password': 'kohei'}\n",
    "\n",
    "#2. --------create session and request login page to save cookie for login-----------\n",
    "s = requests.session()\n",
    "s.post(login_url,headers=headers,data=data)\n",
    "\n",
    "#3. ------------------------request website after login------------------------------\n",
    "response = s.get('https://scraping-for-beginner.herokuapp.com/mypage')\n",
    "\n",
    "#4. ------------------------analyze response by beautifulsoup------------------------\n",
    "soup = BeautifulSoup(response.text)\n",
    "table = soup.find_all('table')[0]\n",
    "columns = [i.text for i in table.find_all('th')]\n",
    "data = [i.text for i in table.find_all('td')]\n",
    "\n",
    "#5. -----------------------------arrange data----------------------------------------\n",
    "data[4] = data[4].strip().replace(' ','').replace('\\n',',')\n",
    "summary=pd.DataFrame(index=columns,data=data,columns=['個人情報'])\n",
    "summary"
   ]
  },
  {
   "cell_type": "code",
   "execution_count": null,
   "metadata": {},
   "outputs": [],
   "source": []
  }
 ],
 "metadata": {
  "kernelspec": {
   "display_name": "Python 3",
   "language": "python",
   "name": "python3"
  },
  "language_info": {
   "codemirror_mode": {
    "name": "ipython",
    "version": 3
   },
   "file_extension": ".py",
   "mimetype": "text/x-python",
   "name": "python",
   "nbconvert_exporter": "python",
   "pygments_lexer": "ipython3",
   "version": "3.7.3"
  }
 },
 "nbformat": 4,
 "nbformat_minor": 2
}
