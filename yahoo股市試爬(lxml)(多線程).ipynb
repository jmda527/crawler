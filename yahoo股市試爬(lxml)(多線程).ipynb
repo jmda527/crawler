{
 "cells": [
  {
   "cell_type": "code",
   "execution_count": 6,
   "metadata": {},
   "outputs": [],
   "source": [
    "from lxml import etree\n",
    "import requests\n",
    "import numpy as np\n",
    "import pandas as pd\n",
    "import os\n",
    "import datetime\n",
    "import threading\n",
    "import re\n",
    "from tqdm.notebook import tqdm"
   ]
  },
  {
   "cell_type": "code",
   "execution_count": 7,
   "metadata": {},
   "outputs": [],
   "source": [
    "def get_table(url):\n",
    "    #get reponse\n",
    "    response = requests.get(url)\n",
    "    #analyze by lxml\n",
    "    html= etree.HTML(response.text)\n",
    "    #take first row from table (th)\n",
    "    title = html.xpath(\"//table[@bgcolor='#ffffff'][1]//tr//th//text()\")\n",
    "    #take all rows from table (td)\n",
    "    content = np.array(html.xpath(\"//table[@bgcolor='#ffffff'][1]//tr//td//text()\")).reshape(-1,12)\n",
    "    #------------------------------------------table整理--------------------------------------------\n",
    "    def trans(string):\n",
    "        if type(string) == str:\n",
    "            string_e = re.sub(r'[▲△]','',string)\n",
    "            string_e = re.sub(r'[▼▽]','-',string_e)\n",
    "        else:\n",
    "            string_e = np.nan\n",
    "        return string_e\n",
    "    def time_trans(t):\n",
    "        if type(t) == str:\n",
    "            return today+' '+t\n",
    "        else:\n",
    "            return np.nan\n",
    "    table_frame = pd.DataFrame(content,columns=title).drop('股票代號',axis=1)\n",
    "    table_frame.rename(columns={'選擇':'股票代號'},inplace=True)\n",
    "    table_frame = table_frame.replace('-',np.nan)\n",
    "    table_frame['時間'] = table_frame['時間'].apply(time_trans)\n",
    "    table_frame['漲跌'] = table_frame['漲跌'].apply(trans)\n",
    "    table_frame['張數'] = table_frame['張數'].str.replace(',','')\n",
    "    table_frame.iloc[:,3:].astype('float',inplace=True)\n",
    "    return table_frame"
   ]
  },
  {
   "cell_type": "code",
   "execution_count": 8,
   "metadata": {},
   "outputs": [],
   "source": [
    "def get_category(number):\n",
    "    #create date\n",
    "    global today\n",
    "    today = str(pd.to_datetime(datetime.datetime.today())).split(' ')[0]\n",
    "    #url of all category\n",
    "    response_main = requests.get('https://tw.stock.yahoo.com/h/getclass.php')\n",
    "    #analyze by lxml\n",
    "    html_main = etree.HTML(response_main.text)\n",
    "    #take out text from stock table\n",
    "    list_c = html_main.xpath(\"//table[@id='market']//table[@cols='2'][{}]//a/text()\".format(number))\n",
    "    #take out link from stock table\n",
    "    list_url = html_main.xpath(\"//table[@id='market']//table[@cols='2'][{}]//a/@href\".format(number))\n",
    "    list_url_f = ['https://tw.stock.yahoo.com'+i for i in list_url]\n",
    "    catch_list = pd.Series(data=list_url_f,index=list_c)\n",
    "    #--------------------------save file----------------------------------\n",
    "    #create folder\n",
    "    save_place = r'C:\\Users\\User\\Downloads\\kaggle\\工具包\\爬蟲\\股市'+today\n",
    "    if not os.path.exists(save_place):\n",
    "        os.makedirs(save_place)\n",
    "    # save file\n",
    "    for i in tqdm(range(len(catch_list))):\n",
    "        try:\n",
    "            address = save_place + '/' + catch_list.index[i] + today + '.xlsx'\n",
    "            catch = get_table(catch_list[i])\n",
    "            catch.to_excel(address,index=False)\n",
    "        except :\n",
    "            pass"
   ]
  },
  {
   "cell_type": "code",
   "execution_count": 9,
   "metadata": {},
   "outputs": [],
   "source": [
    "#多線程(繼承threading.Thread)\n",
    "class table1(threading.Thread):\n",
    "    def run(self):\n",
    "        get_category(1)\n",
    "class table2(threading.Thread):\n",
    "    def run(self):\n",
    "        get_category(2)\n",
    "class table3(threading.Thread):\n",
    "    def run(self):\n",
    "        get_category(3)\n",
    "class table4(threading.Thread):\n",
    "    def run(self):\n",
    "        get_category(4)\n",
    "class table5(threading.Thread):\n",
    "    def run(self):\n",
    "        get_category(5)\n",
    "\n",
    "#主函數\n",
    "def main():\n",
    "    #thread\n",
    "    t1 = table1()\n",
    "    t2 = table2()\n",
    "    t3 = table3()\n",
    "    t4 = table4()\n",
    "    t5 = table5()\n",
    "    t1.start()\n",
    "    t2.start()\n",
    "    t3.start()\n",
    "    t4.start()\n",
    "    t5.start()"
   ]
  },
  {
   "cell_type": "code",
   "execution_count": 10,
   "metadata": {},
   "outputs": [
    {
     "data": {
      "application/vnd.jupyter.widget-view+json": {
       "model_id": "2e10c1423ed846cbafadd9a57e2a7494",
       "version_major": 2,
       "version_minor": 0
      },
      "text/plain": [
       "HBox(children=(IntProgress(value=0, max=231), HTML(value='')))"
      ]
     },
     "metadata": {},
     "output_type": "display_data"
    },
    {
     "data": {
      "application/vnd.jupyter.widget-view+json": {
       "model_id": "f746092b97dc4ed7ac3e7d6dc8da888a",
       "version_major": 2,
       "version_minor": 0
      },
      "text/plain": [
       "HBox(children=(IntProgress(value=0, max=32), HTML(value='')))"
      ]
     },
     "metadata": {},
     "output_type": "display_data"
    },
    {
     "data": {
      "application/vnd.jupyter.widget-view+json": {
       "model_id": "db00a146cc894e9eaac3a848c9678a65",
       "version_major": 2,
       "version_minor": 0
      },
      "text/plain": [
       "HBox(children=(IntProgress(value=0, max=35), HTML(value='')))"
      ]
     },
     "metadata": {},
     "output_type": "display_data"
    },
    {
     "data": {
      "application/vnd.jupyter.widget-view+json": {
       "model_id": "90595b626b594bcfa9a550d82bcdd8d8",
       "version_major": 2,
       "version_minor": 0
      },
      "text/plain": [
       "HBox(children=(IntProgress(value=0, max=75), HTML(value='')))"
      ]
     },
     "metadata": {},
     "output_type": "display_data"
    },
    {
     "data": {
      "application/vnd.jupyter.widget-view+json": {
       "model_id": "631ab597efd84490864ca75bafa756c8",
       "version_major": 2,
       "version_minor": 0
      },
      "text/plain": [
       "HBox(children=(IntProgress(value=0, max=40), HTML(value='')))"
      ]
     },
     "metadata": {},
     "output_type": "display_data"
    },
    {
     "name": "stdout",
     "output_type": "stream",
     "text": [
      "\n",
      "\n",
      "\n"
     ]
    }
   ],
   "source": [
    "main()"
   ]
  },
  {
   "cell_type": "code",
   "execution_count": null,
   "metadata": {},
   "outputs": [],
   "source": []
  }
 ],
 "metadata": {
  "kernelspec": {
   "display_name": "Python 3",
   "language": "python",
   "name": "python3"
  },
  "language_info": {
   "codemirror_mode": {
    "name": "ipython",
    "version": 3
   },
   "file_extension": ".py",
   "mimetype": "text/x-python",
   "name": "python",
   "nbconvert_exporter": "python",
   "pygments_lexer": "ipython3",
   "version": "3.7.3"
  }
 },
 "nbformat": 4,
 "nbformat_minor": 2
}
